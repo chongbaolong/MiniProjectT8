{
 "cells": [
  {
   "cell_type": "code",
   "execution_count": 4,
   "id": "7bc4a556",
   "metadata": {},
   "outputs": [],
   "source": [
    "import sys\n",
    "#Just make sure version atleast 3.7\n",
    "assert sys.version_info >= (3, 7)\n",
    "\n",
    "import cv2 as cv\n",
    "import numpy as np\n",
    "import imutils as imutil"
   ]
  },
  {
   "cell_type": "code",
   "execution_count": 5,
   "id": "fb7671f3",
   "metadata": {},
   "outputs": [
    {
     "data": {
      "text/plain": [
       "True"
      ]
     },
     "execution_count": 5,
     "metadata": {},
     "output_type": "execute_result"
    }
   ],
   "source": [
    "if not cv.useOptimized():\n",
    "    cv.setUseOptimized(True)\n",
    "    \n",
    "cv.useOptimized()"
   ]
  },
  {
   "cell_type": "code",
   "execution_count": 6,
   "id": "fe59ca3c",
   "metadata": {},
   "outputs": [],
   "source": [
    "import matplotlib.pyplot as plt"
   ]
  },
  {
   "cell_type": "markdown",
   "id": "e65dd00f",
   "metadata": {},
   "source": [
    "# Weekly Activity"
   ]
  },
  {
   "cell_type": "markdown",
   "id": "1fcaba6b",
   "metadata": {},
   "source": [
    "### 1)"
   ]
  },
  {
   "cell_type": "code",
   "execution_count": 11,
   "id": "c1a54bb4",
   "metadata": {},
   "outputs": [],
   "source": [
    "img = cv.imread('dog.jfif')\n",
    "img_copy = img.copy()\n",
    "\n",
    "height, width = img.shape[:2]\n",
    "num_horizontal_patches = 3\n",
    "num_vertical_patches = 3\n",
    "\n",
    "# M and N are basically number of pixels per patch\n",
    "M, N = int(height/num_horizontal_patches), int(width/num_vertical_patches)\n",
    "\n",
    "x1, y1 = 0, 0\n",
    "\n",
    "for y in range(0, height, M):\n",
    "    for x in range(0, width, N):\n",
    "#         if (height - y) < M or (width - x) < N:\n",
    "#             break\n",
    "            \n",
    "        y1 = y + M    # lower right coordinate that will be used to construct rectangle\n",
    "        x1 = x + N\n",
    "        \n",
    "        # Check whether patch lower right coordinate exceeds image height and width\n",
    "        if x1 >= width and y1 >= height:\n",
    "            x1 = width - 1\n",
    "            y1 = height - 1\n",
    "            tile = img[y:height, x:width]\n",
    "            cv.rectangle(img_copy, (x, y), (x1, y1), (0, 255, 0), 1)\n",
    "            cv.imshow('tile', tile)\n",
    "        # When patch lower right y-coordinate exceeds patch height\n",
    "        elif y1 >= height:\n",
    "            y1 = height - 1\n",
    "            cv.rectangle(img_copy, (x, y), (x1, y1), (0, 255, 0), 1)\n",
    "            \n",
    "        # When patch lower right x-coordinate exceeds patch width\n",
    "        elif x1 >= width:\n",
    "            x1 = width - 1\n",
    "            cv.rectangle(img_copy, (x, y), (x1, y1), (0, 255, 0), 1)\n",
    "        \n",
    "        else:\n",
    "            cv.rectangle(img_copy, (x, y), (x1, y1), (0, 255, 0), 1)\n",
    "            \n",
    "cv.imshow('patched image', img_copy)\n",
    "cv.waitKey(0)\n",
    "cv.destroyAllWindows()"
   ]
  },
  {
   "cell_type": "markdown",
   "id": "f1081989",
   "metadata": {},
   "source": [
    "### 2)"
   ]
  },
  {
   "cell_type": "code",
   "execution_count": 7,
   "id": "dacb4a11",
   "metadata": {},
   "outputs": [],
   "source": [
    "img1 = cv.imread('lena.jfif')\n",
    "img2 = cv.imread('coins.jfif')\n",
    "\n",
    "# Resize img2\n",
    "new_shape = img1.shape[:2]\n",
    "img2 = cv.resize(img2, new_shape)\n",
    "\n",
    "# define \n",
    "alpha = 0.75\n",
    "beta = 1 - alpha\n",
    "\n",
    "dst = cv.addWeighted(img1, alpha, img2, beta, 0)\n",
    "\n",
    "cv.imshow('blend_image', dst)\n",
    "cv.waitKey(0)\n",
    "cv.destroyAllWindows()"
   ]
  },
  {
   "cell_type": "markdown",
   "id": "22b4fb1e",
   "metadata": {},
   "source": [
    "### 3)"
   ]
  },
  {
   "cell_type": "code",
   "execution_count": 6,
   "id": "9cca89a5",
   "metadata": {
    "scrolled": true
   },
   "outputs": [],
   "source": [
    "img = cv.imread('lena.jfif')\n",
    "rows, cols = img.shape[:2]\n",
    "\n",
    "#M = cv.getRotationMatrix2D(((cols-1)/2.0, (rows-1)/2.0), 45, 1)\n",
    "\n",
    "#dst = cv.warpAffine(img, M, (cols, rows))\n",
    "rotate = imutil.rotate_bound(img, 45)\n",
    "\n",
    "cv.imshow('rotated_image', rotate)\n",
    "cv.waitKey(0)\n",
    "cv.destroyAllWindows()"
   ]
  },
  {
   "cell_type": "markdown",
   "id": "11c1b2af",
   "metadata": {},
   "source": [
    "### 4)"
   ]
  },
  {
   "cell_type": "code",
   "execution_count": 110,
   "id": "8cf6f3fe",
   "metadata": {},
   "outputs": [],
   "source": [
    "img1 = cv.imread('flower.jfif')\n",
    "img2 = cv.imread('native-bee.png')\n",
    "\n",
    "cropped_img1 = img1[40:120, 90:175]\n",
    "\n",
    "rows, cols, channels = cropped_img1.shape\n",
    "roi = img2[0:rows, 0:cols]\n",
    "\n",
    "\n",
    "img1gray = cv.cvtColor(cropped_img1, cv.COLOR_BGR2GRAY)\n",
    "ret, mask = cv.threshold(img1gray, 20, 255, cv.THRESH_BINARY)\n",
    "mask_inv = cv.bitwise_not(mask)\n",
    "\n",
    "img2_bee = cv.bitwise_and(roi, roi, mask = mask_inv)\n",
    "\n",
    "img1_flo = cv.bitwise_and(cropped_img1,cropped_img1,mask = mask)\n",
    "\n",
    "dst = cv.add(img2_bee,img1_flo)\n",
    "img2[0:rows, 0:cols] = dst\n",
    "\n",
    "cv.imshow('flower_bee', img2)\n",
    "\n",
    "cv.waitKey(0)\n",
    "cv.destroyAllWindows()"
   ]
  },
  {
   "cell_type": "code",
   "execution_count": null,
   "id": "a83d2fb6",
   "metadata": {},
   "outputs": [],
   "source": []
  }
 ],
 "metadata": {
  "kernelspec": {
   "display_name": "Python 3 (ipykernel)",
   "language": "python",
   "name": "python3"
  },
  "language_info": {
   "codemirror_mode": {
    "name": "ipython",
    "version": 3
   },
   "file_extension": ".py",
   "mimetype": "text/x-python",
   "name": "python",
   "nbconvert_exporter": "python",
   "pygments_lexer": "ipython3",
   "version": "3.9.12"
  }
 },
 "nbformat": 4,
 "nbformat_minor": 5
}
