{
 "cells": [
  {
   "cell_type": "code",
   "execution_count": 1,
   "id": "35d23e94",
   "metadata": {},
   "outputs": [
    {
     "data": {
      "text/plain": [
       "True"
      ]
     },
     "execution_count": 1,
     "metadata": {},
     "output_type": "execute_result"
    }
   ],
   "source": [
    "import sys\n",
    "# Python 3.7 is required\n",
    "assert sys.version_info >= (3,7)\n",
    "\n",
    "import cv2 as cv\n",
    "import numpy as np\n",
    "\n",
    "# For reproducibility,\n",
    "np.random.seed(99)\n",
    "\n",
    "# Make sure that optimization is enabled\n",
    "if not cv.useOptimized():\n",
    "    cv.setUseOptimized(True)\n",
    "\n",
    "cv.useOptimized()"
   ]
  },
  {
   "cell_type": "markdown",
   "id": "29f4c51b",
   "metadata": {},
   "source": [
    "## Weekly Activity (4)"
   ]
  },
  {
   "cell_type": "markdown",
   "id": "1a441c38",
   "metadata": {},
   "source": [
    "### 1)"
   ]
  },
  {
   "cell_type": "code",
   "execution_count": 2,
   "id": "aedc0fef",
   "metadata": {},
   "outputs": [
    {
     "ename": "AttributeError",
     "evalue": "module 'cv2' has no attribute 'destroyAllWindow'",
     "output_type": "error",
     "traceback": [
      "\u001b[1;31m---------------------------------------------------------------------------\u001b[0m",
      "\u001b[1;31mAttributeError\u001b[0m                            Traceback (most recent call last)",
      "Input \u001b[1;32mIn [2]\u001b[0m, in \u001b[0;36m<cell line: 7>\u001b[1;34m()\u001b[0m\n\u001b[0;32m      5\u001b[0m cv\u001b[38;5;241m.\u001b[39mimshow(\u001b[38;5;124m'\u001b[39m\u001b[38;5;124mGrayScale\u001b[39m\u001b[38;5;124m'\u001b[39m, imgGray)\n\u001b[0;32m      6\u001b[0m cv\u001b[38;5;241m.\u001b[39mwaitKey(\u001b[38;5;241m0\u001b[39m)\n\u001b[1;32m----> 7\u001b[0m \u001b[43mcv\u001b[49m\u001b[38;5;241;43m.\u001b[39;49m\u001b[43mdestroyAllWindow\u001b[49m()\n",
      "\u001b[1;31mAttributeError\u001b[0m: module 'cv2' has no attribute 'destroyAllWindow'"
     ]
    }
   ],
   "source": [
    "imgColor = cv.imread('dog.jfif')\n",
    "imgGray = cv.imread('dog.jfif', 0)  #0 = grayscale\n",
    "\n",
    "cv.imshow('Color', imgColor)\n",
    "cv.imshow('GrayScale', imgGray)\n",
    "cv.waitKey(0)\n",
    "cv.destroyAllWindow()"
   ]
  },
  {
   "cell_type": "code",
   "execution_count": 3,
   "id": "26003204",
   "metadata": {},
   "outputs": [],
   "source": [
    "imgC = cv.imread('lena.jpg')\n",
    "#imgG = cv.imread('lena.jpg')\n",
    "\n",
    "imgG = cv.cvtColor(imgC, cv.COLOR_BGR2GRAY)\n",
    "imgG = cv.cvtColor(imgG, cv.COLOR_GRAY2BGR)\n",
    "#hconcat = display horizontal, vconcat = display vertical\n",
    "img_Combine = np.concatenate([imgC, imgG])\n",
    "\n",
    "cv.imshow('Flower', img_Combine)\n",
    "\n",
    "cv.waitKey(0)\n",
    "cv.destroyAllWindows()"
   ]
  },
  {
   "cell_type": "markdown",
   "id": "7129d8ee",
   "metadata": {},
   "source": [
    "### 2)"
   ]
  },
  {
   "cell_type": "code",
   "execution_count": 4,
   "id": "5aad23a5",
   "metadata": {},
   "outputs": [],
   "source": [
    "cap = cv.VideoCapture('img_pexels.mp4')\n",
    "\n",
    "width = int(cap.get(3))\n",
    "height = int(cap.get(4))\n",
    "fourcc = cv.VideoWriter_fourcc('M','J','P','G')\n",
    "fps = 5\n",
    "out = cv.VideoWriter('smaller_img_pexels.avi', fourcc, fps, (width, height))\n",
    "\n",
    "if not cap.isOpened():\n",
    "    print(\"Unable to create Video.\")\n",
    "    \n",
    "while cap.isOpened():\n",
    "    ret, frame = cap.read()\n",
    "    \n",
    "    if not ret:\n",
    "        print(\"Can't Receive Frame.\")\n",
    "        break\n",
    "        \n",
    "    cv.namedWindow('frame', cv.WINDOW_NORMAL)\n",
    "    cv.imshow('frame', frame)\n",
    "        \n",
    "    if cv.waitKey(1) & 0xFF == 27:\n",
    "        break"
   ]
  },
  {
   "cell_type": "markdown",
   "id": "a1e35c31",
   "metadata": {},
   "source": [
    "### 3)"
   ]
  },
  {
   "cell_type": "code",
   "execution_count": 3,
   "id": "06fbd542",
   "metadata": {},
   "outputs": [],
   "source": [
    "from skimage.util import random_noise\n",
    "\n",
    "imgG = cv.imread('dog.jfif', 0)\n",
    "\n",
    "noise_img = random_noise(imgG, mode='s&p', amount = 0.3)\n",
    "noise_img = np.array(255*noise_img, dtype = 'uint8')\n",
    "\n",
    "cv.imshow('Random Noise Color and Grayscale', noise_img)\n",
    "cv.waitKey(0)\n",
    "cv.destroyAllWindows()"
   ]
  },
  {
   "cell_type": "code",
   "execution_count": null,
   "id": "3f461727",
   "metadata": {},
   "outputs": [],
   "source": []
  }
 ],
 "metadata": {
  "kernelspec": {
   "display_name": "Python 3 (ipykernel)",
   "language": "python",
   "name": "python3"
  },
  "language_info": {
   "codemirror_mode": {
    "name": "ipython",
    "version": 3
   },
   "file_extension": ".py",
   "mimetype": "text/x-python",
   "name": "python",
   "nbconvert_exporter": "python",
   "pygments_lexer": "ipython3",
   "version": "3.9.12"
  }
 },
 "nbformat": 4,
 "nbformat_minor": 5
}
